{
 "cells": [
  {
   "cell_type": "markdown",
   "metadata": {},
   "source": [
    "### Heroes Of Pymoli Data Analysis\n",
    "* Of the 1163 active players, the vast majority are male (84%). There also exists, a smaller, but notable proportion of female players (14%).\n",
    "\n",
    "* Our peak age demographic falls between 20-24 (44.8%) with secondary groups falling between 15-19 (18.60%) and 25-29 (13.4%).  \n",
    "-----"
   ]
  },
  {
   "cell_type": "markdown",
   "metadata": {},
   "source": [
    "### Note\n",
    "* Instructions have been included for each segment. You do not have to follow them exactly, but they are included to help you think through the steps."
   ]
  },
  {
   "cell_type": "code",
   "execution_count": 1,
   "metadata": {},
   "outputs": [],
   "source": [
    "# Dependencies and Setup\n",
    "import pandas as pd\n",
    "import numpy as np\n",
    "\n",
    "# Raw data file\n",
    "file_to_load = \"purchase_data.csv\"\n",
    "\n",
    "# Read purchasing file and store into pandas data frame\n",
    "df = pd.read_csv(file_to_load)"
   ]
  },
  {
   "cell_type": "markdown",
   "metadata": {},
   "source": [
    "## Player Count"
   ]
  },
  {
   "cell_type": "markdown",
   "metadata": {},
   "source": [
    "* Display the total number of players\n"
   ]
  },
  {
   "cell_type": "code",
   "execution_count": 2,
   "metadata": {},
   "outputs": [
    {
     "data": {
      "text/html": [
       "<div>\n",
       "<style scoped>\n",
       "    .dataframe tbody tr th:only-of-type {\n",
       "        vertical-align: middle;\n",
       "    }\n",
       "\n",
       "    .dataframe tbody tr th {\n",
       "        vertical-align: top;\n",
       "    }\n",
       "\n",
       "    .dataframe thead th {\n",
       "        text-align: right;\n",
       "    }\n",
       "</style>\n",
       "<table border=\"1\" class=\"dataframe\">\n",
       "  <thead>\n",
       "    <tr style=\"text-align: right;\">\n",
       "      <th></th>\n",
       "      <th>Total Players</th>\n",
       "    </tr>\n",
       "  </thead>\n",
       "  <tbody>\n",
       "    <tr>\n",
       "      <th>0</th>\n",
       "      <td>576</td>\n",
       "    </tr>\n",
       "  </tbody>\n",
       "</table>\n",
       "</div>"
      ],
      "text/plain": [
       "   Total Players\n",
       "0            576"
      ]
     },
     "execution_count": 2,
     "metadata": {},
     "output_type": "execute_result"
    }
   ],
   "source": [
    "total_player = (df[\"SN\"].value_counts()).count()\n",
    "total_player\n",
    "total_player_df = pd.DataFrame([{\"Total Players\": total_player}])\n",
    "total_player_df"
   ]
  },
  {
   "cell_type": "markdown",
   "metadata": {},
   "source": [
    "## Purchasing Analysis (Total)"
   ]
  },
  {
   "cell_type": "markdown",
   "metadata": {},
   "source": [
    "* Run basic calculations to obtain number of unique items, average price, etc.\n",
    "\n",
    "\n",
    "* Create a summary data frame to hold the results\n",
    "\n",
    "\n",
    "* Optional: give the displayed data cleaner formatting\n",
    "\n",
    "\n",
    "* Display the summary data frame\n"
   ]
  },
  {
   "cell_type": "code",
   "execution_count": 3,
   "metadata": {
    "scrolled": true
   },
   "outputs": [
    {
     "data": {
      "text/html": [
       "<div>\n",
       "<style scoped>\n",
       "    .dataframe tbody tr th:only-of-type {\n",
       "        vertical-align: middle;\n",
       "    }\n",
       "\n",
       "    .dataframe tbody tr th {\n",
       "        vertical-align: top;\n",
       "    }\n",
       "\n",
       "    .dataframe thead th {\n",
       "        text-align: right;\n",
       "    }\n",
       "</style>\n",
       "<table border=\"1\" class=\"dataframe\">\n",
       "  <thead>\n",
       "    <tr style=\"text-align: right;\">\n",
       "      <th></th>\n",
       "      <th>Average Price</th>\n",
       "      <th>Number of Purchase</th>\n",
       "      <th>Number of Unique Items</th>\n",
       "      <th>Total Revenue</th>\n",
       "    </tr>\n",
       "  </thead>\n",
       "  <tbody>\n",
       "    <tr>\n",
       "      <th>0</th>\n",
       "      <td>$3.05</td>\n",
       "      <td>780</td>\n",
       "      <td>183</td>\n",
       "      <td>$2379.77</td>\n",
       "    </tr>\n",
       "  </tbody>\n",
       "</table>\n",
       "</div>"
      ],
      "text/plain": [
       "  Average Price  Number of Purchase  Number of Unique Items Total Revenue\n",
       "0         $3.05                 780                     183      $2379.77"
      ]
     },
     "execution_count": 3,
     "metadata": {},
     "output_type": "execute_result"
    }
   ],
   "source": [
    "No_unique_item = (df[\"Item ID\"].value_counts()).count()\n",
    "No_unique_item\n",
    "Avg_Price = df[\"Price\"].mean()\n",
    "Avg_Price\n",
    "Total_Purchase = df[\"Purchase ID\"].count()\n",
    "Total_Purchase\n",
    "Total_Rev = df[\"Price\"].sum()\n",
    "Total_Rev\n",
    "\n",
    "Purchase_summary = pd.DataFrame([{\"Number of Unique Items\":No_unique_item, \"Average Price\": \"${0:.2f}\".format(Avg_Price), \n",
    "                                  \"Number of Purchase\" : Total_Purchase, \"Total Revenue\": \"${0:.2f}\".format(Total_Rev)}])\n",
    "Purchase_summary"
   ]
  },
  {
   "cell_type": "markdown",
   "metadata": {},
   "source": [
    "## Gender Demographics"
   ]
  },
  {
   "cell_type": "markdown",
   "metadata": {},
   "source": [
    "* Run basic calculations to obtain number of unique items, average price, etc.\n",
    "\n",
    "\n",
    "* Create a summary data frame to hold the results\n",
    "\n",
    "\n",
    "* Optional: give the displayed data cleaner formatting\n",
    "\n",
    "\n",
    "* Display the summary data frame\n"
   ]
  },
  {
   "cell_type": "code",
   "execution_count": 4,
   "metadata": {},
   "outputs": [
    {
     "data": {
      "text/html": [
       "<div>\n",
       "<style scoped>\n",
       "    .dataframe tbody tr th:only-of-type {\n",
       "        vertical-align: middle;\n",
       "    }\n",
       "\n",
       "    .dataframe tbody tr th {\n",
       "        vertical-align: top;\n",
       "    }\n",
       "\n",
       "    .dataframe thead th {\n",
       "        text-align: right;\n",
       "    }\n",
       "</style>\n",
       "<table border=\"1\" class=\"dataframe\">\n",
       "  <thead>\n",
       "    <tr style=\"text-align: right;\">\n",
       "      <th></th>\n",
       "      <th>Percentage of Player</th>\n",
       "      <th>Total Count</th>\n",
       "    </tr>\n",
       "  </thead>\n",
       "  <tbody>\n",
       "    <tr>\n",
       "      <th>Male</th>\n",
       "      <td>113.19%</td>\n",
       "      <td>652</td>\n",
       "    </tr>\n",
       "    <tr>\n",
       "      <th>Female</th>\n",
       "      <td>19.62%</td>\n",
       "      <td>113</td>\n",
       "    </tr>\n",
       "    <tr>\n",
       "      <th>Other / Non-Disclosed</th>\n",
       "      <td>2.60%</td>\n",
       "      <td>15</td>\n",
       "    </tr>\n",
       "  </tbody>\n",
       "</table>\n",
       "</div>"
      ],
      "text/plain": [
       "                      Percentage of Player  Total Count\n",
       "Male                               113.19%          652\n",
       "Female                              19.62%          113\n",
       "Other / Non-Disclosed                2.60%           15"
      ]
     },
     "execution_count": 4,
     "metadata": {},
     "output_type": "execute_result"
    }
   ],
   "source": [
    "gender_count = df[\"Gender\"].value_counts()\n",
    "df_gender = df.groupby([\"Gender\"])\n",
    "gender_percent = (gender_count/total_player*100).map(\"{:.2f}%\".format)\n",
    "gender_summary= pd.DataFrame ({\"Percentage of Player\" :gender_percent, \"Total Count\": gender_count})\n",
    "gender_summary"
   ]
  },
  {
   "cell_type": "markdown",
   "metadata": {},
   "source": [
    "\n",
    "## Purchasing Analysis (Gender)"
   ]
  },
  {
   "cell_type": "markdown",
   "metadata": {},
   "source": [
    "* Run basic calculations to obtain purchase count, avg. purchase price, etc. by gender\n",
    "\n",
    "\n",
    "* For normalized purchasing, divide total purchase value by purchase count, by gender\n",
    "\n",
    "\n",
    "* Create a summary data frame to hold the results\n",
    "\n",
    "\n",
    "* Optional: give the displayed data cleaner formatting\n",
    "\n",
    "\n",
    "* Display the summary data frame"
   ]
  },
  {
   "cell_type": "code",
   "execution_count": 5,
   "metadata": {},
   "outputs": [
    {
     "data": {
      "text/html": [
       "<div>\n",
       "<style scoped>\n",
       "    .dataframe tbody tr th:only-of-type {\n",
       "        vertical-align: middle;\n",
       "    }\n",
       "\n",
       "    .dataframe tbody tr th {\n",
       "        vertical-align: top;\n",
       "    }\n",
       "\n",
       "    .dataframe thead th {\n",
       "        text-align: right;\n",
       "    }\n",
       "</style>\n",
       "<table border=\"1\" class=\"dataframe\">\n",
       "  <thead>\n",
       "    <tr style=\"text-align: right;\">\n",
       "      <th></th>\n",
       "      <th>Purchase Count</th>\n",
       "      <th>Average Purchase Price</th>\n",
       "      <th>Total Purchase Value</th>\n",
       "      <th>Normalized Totals</th>\n",
       "    </tr>\n",
       "  </thead>\n",
       "  <tbody>\n",
       "    <tr>\n",
       "      <th>Female</th>\n",
       "      <td>113</td>\n",
       "      <td>$3.20</td>\n",
       "      <td>$361.94</td>\n",
       "      <td>$3.20</td>\n",
       "    </tr>\n",
       "    <tr>\n",
       "      <th>Male</th>\n",
       "      <td>652</td>\n",
       "      <td>$3.02</td>\n",
       "      <td>$1967.64</td>\n",
       "      <td>$3.02</td>\n",
       "    </tr>\n",
       "    <tr>\n",
       "      <th>Other / Non-Disclosed</th>\n",
       "      <td>15</td>\n",
       "      <td>$3.35</td>\n",
       "      <td>$50.19</td>\n",
       "      <td>$3.35</td>\n",
       "    </tr>\n",
       "  </tbody>\n",
       "</table>\n",
       "</div>"
      ],
      "text/plain": [
       "                       Purchase Count Average Purchase Price  \\\n",
       "Female                            113                  $3.20   \n",
       "Male                              652                  $3.02   \n",
       "Other / Non-Disclosed              15                  $3.35   \n",
       "\n",
       "                      Total Purchase Value Normalized Totals  \n",
       "Female                             $361.94             $3.20  \n",
       "Male                              $1967.64             $3.02  \n",
       "Other / Non-Disclosed               $50.19             $3.35  "
      ]
     },
     "execution_count": 5,
     "metadata": {},
     "output_type": "execute_result"
    }
   ],
   "source": [
    "avg_price = (df_gender[\"Price\"].mean()).map(\"${:.2f}\".format)\n",
    "total_purchase = (df_gender[\"Price\"].sum()).map(\"${:.2f}\".format)\n",
    "Normalized_purchase_totals = (df_gender[\"Price\"].sum()/df[\"Gender\"].value_counts()).map(\"${:.2f}\".format)\n",
    "\n",
    "purchasing_summary = pd.DataFrame({\"Purchase Count\":gender_count, \"Average Purchase Price\":(avg_price),\n",
    "                                   \"Total Purchase Value\":total_purchase, \"Normalized Totals\":Normalized_purchase_totals})\n",
    "purchasing_summary"
   ]
  },
  {
   "cell_type": "markdown",
   "metadata": {},
   "source": [
    "## Age Demographics"
   ]
  },
  {
   "cell_type": "markdown",
   "metadata": {},
   "source": [
    "* Establish bins for ages\n",
    "\n",
    "\n",
    "* Categorize the existing players using the age bins. Hint: use pd.cut()\n",
    "\n",
    "\n",
    "* Calculate the numbers and percentages by age group\n",
    "\n",
    "\n",
    "* Create a summary data frame to hold the results\n",
    "\n",
    "\n",
    "* Optional: round the percentage column to two decimal points\n",
    "\n",
    "\n",
    "* Display Age Demographics Table\n"
   ]
  },
  {
   "cell_type": "code",
   "execution_count": 6,
   "metadata": {},
   "outputs": [
    {
     "data": {
      "text/html": [
       "<div>\n",
       "<style scoped>\n",
       "    .dataframe tbody tr th:only-of-type {\n",
       "        vertical-align: middle;\n",
       "    }\n",
       "\n",
       "    .dataframe tbody tr th {\n",
       "        vertical-align: top;\n",
       "    }\n",
       "\n",
       "    .dataframe thead th {\n",
       "        text-align: right;\n",
       "    }\n",
       "</style>\n",
       "<table border=\"1\" class=\"dataframe\">\n",
       "  <thead>\n",
       "    <tr style=\"text-align: right;\">\n",
       "      <th></th>\n",
       "      <th>Percentage of Players</th>\n",
       "      <th>Total Count</th>\n",
       "    </tr>\n",
       "  </thead>\n",
       "  <tbody>\n",
       "    <tr>\n",
       "      <th>20-24</th>\n",
       "      <td>63.37%</td>\n",
       "      <td>365</td>\n",
       "    </tr>\n",
       "    <tr>\n",
       "      <th>15-19</th>\n",
       "      <td>23.61%</td>\n",
       "      <td>136</td>\n",
       "    </tr>\n",
       "    <tr>\n",
       "      <th>25-29</th>\n",
       "      <td>17.53%</td>\n",
       "      <td>101</td>\n",
       "    </tr>\n",
       "    <tr>\n",
       "      <th>30-34</th>\n",
       "      <td>12.67%</td>\n",
       "      <td>73</td>\n",
       "    </tr>\n",
       "    <tr>\n",
       "      <th>35-39</th>\n",
       "      <td>7.12%</td>\n",
       "      <td>41</td>\n",
       "    </tr>\n",
       "    <tr>\n",
       "      <th>10-14</th>\n",
       "      <td>4.86%</td>\n",
       "      <td>28</td>\n",
       "    </tr>\n",
       "    <tr>\n",
       "      <th>&lt;10</th>\n",
       "      <td>3.99%</td>\n",
       "      <td>23</td>\n",
       "    </tr>\n",
       "    <tr>\n",
       "      <th>40+</th>\n",
       "      <td>2.26%</td>\n",
       "      <td>13</td>\n",
       "    </tr>\n",
       "  </tbody>\n",
       "</table>\n",
       "</div>"
      ],
      "text/plain": [
       "      Percentage of Players  Total Count\n",
       "20-24                63.37%          365\n",
       "15-19                23.61%          136\n",
       "25-29                17.53%          101\n",
       "30-34                12.67%           73\n",
       "35-39                 7.12%           41\n",
       "10-14                 4.86%           28\n",
       "<10                   3.99%           23\n",
       "40+                   2.26%           13"
      ]
     },
     "execution_count": 6,
     "metadata": {},
     "output_type": "execute_result"
    }
   ],
   "source": [
    "# Establish bins for ages\n",
    "bins = [0, 9.90, 14.90, 19.90, 24.90, 29.90, 34.90, 39.90, 99999]\n",
    "age_name = [\"<10\", \"10-14\", \"15-19\", \"20-24\", \"25-29\", \"30-34\", \"35-39\", \"40+\"]\n",
    "df[\"Age Group\"] = pd.cut(df[\"Age\"], bins, labels=age_name)\n",
    "df_agegroup = df.groupby([\"Age Group\"])\n",
    "pur_count_age = df[\"Age Group\"].value_counts()\n",
    "percentage_age = (df[\"Age Group\"].value_counts()/total_player *100).map(\"{:.2f}%\".format)\n",
    "age_bin_summary = pd.DataFrame({\"Percentage of Players\":percentage_age,\"Total Count\":pur_count_age})\n",
    "age_bin_summary\n"
   ]
  },
  {
   "cell_type": "markdown",
   "metadata": {},
   "source": [
    "## Purchasing Analysis (Age)"
   ]
  },
  {
   "cell_type": "markdown",
   "metadata": {},
   "source": [
    "* Bin the purchase_data data frame by age\n",
    "\n",
    "\n",
    "* Run basic calculations to obtain purchase count, avg. purchase price, etc. in the table below\n",
    "\n",
    "\n",
    "* Calculate Normalized Purchasing\n",
    "\n",
    "\n",
    "* Create a summary data frame to hold the results\n",
    "\n",
    "\n",
    "* Optional: give the displayed data cleaner formatting\n",
    "\n",
    "\n",
    "* Display the summary data frame"
   ]
  },
  {
   "cell_type": "code",
   "execution_count": 7,
   "metadata": {},
   "outputs": [
    {
     "data": {
      "text/html": [
       "<div>\n",
       "<style scoped>\n",
       "    .dataframe tbody tr th:only-of-type {\n",
       "        vertical-align: middle;\n",
       "    }\n",
       "\n",
       "    .dataframe tbody tr th {\n",
       "        vertical-align: top;\n",
       "    }\n",
       "\n",
       "    .dataframe thead th {\n",
       "        text-align: right;\n",
       "    }\n",
       "</style>\n",
       "<table border=\"1\" class=\"dataframe\">\n",
       "  <thead>\n",
       "    <tr style=\"text-align: right;\">\n",
       "      <th></th>\n",
       "      <th>Pruchase Count</th>\n",
       "      <th>Average Purchase Price</th>\n",
       "      <th>Total Pruchase Value</th>\n",
       "      <th>Normalized Totals</th>\n",
       "    </tr>\n",
       "  </thead>\n",
       "  <tbody>\n",
       "    <tr>\n",
       "      <th>10-14</th>\n",
       "      <td>28</td>\n",
       "      <td>$2.96</td>\n",
       "      <td>$82.78</td>\n",
       "      <td>$2.96</td>\n",
       "    </tr>\n",
       "    <tr>\n",
       "      <th>15-19</th>\n",
       "      <td>136</td>\n",
       "      <td>$3.04</td>\n",
       "      <td>$412.89</td>\n",
       "      <td>$3.04</td>\n",
       "    </tr>\n",
       "    <tr>\n",
       "      <th>20-24</th>\n",
       "      <td>365</td>\n",
       "      <td>$3.05</td>\n",
       "      <td>$1114.06</td>\n",
       "      <td>$3.05</td>\n",
       "    </tr>\n",
       "    <tr>\n",
       "      <th>25-29</th>\n",
       "      <td>101</td>\n",
       "      <td>$2.90</td>\n",
       "      <td>$293.00</td>\n",
       "      <td>$2.90</td>\n",
       "    </tr>\n",
       "    <tr>\n",
       "      <th>30-34</th>\n",
       "      <td>73</td>\n",
       "      <td>$2.93</td>\n",
       "      <td>$214.00</td>\n",
       "      <td>$2.93</td>\n",
       "    </tr>\n",
       "    <tr>\n",
       "      <th>35-39</th>\n",
       "      <td>41</td>\n",
       "      <td>$3.60</td>\n",
       "      <td>$147.67</td>\n",
       "      <td>$3.60</td>\n",
       "    </tr>\n",
       "    <tr>\n",
       "      <th>40+</th>\n",
       "      <td>13</td>\n",
       "      <td>$2.94</td>\n",
       "      <td>$38.24</td>\n",
       "      <td>$2.94</td>\n",
       "    </tr>\n",
       "    <tr>\n",
       "      <th>&lt;10</th>\n",
       "      <td>23</td>\n",
       "      <td>$3.35</td>\n",
       "      <td>$77.13</td>\n",
       "      <td>$3.35</td>\n",
       "    </tr>\n",
       "  </tbody>\n",
       "</table>\n",
       "</div>"
      ],
      "text/plain": [
       "       Pruchase Count Average Purchase Price Total Pruchase Value  \\\n",
       "10-14              28                  $2.96               $82.78   \n",
       "15-19             136                  $3.04              $412.89   \n",
       "20-24             365                  $3.05             $1114.06   \n",
       "25-29             101                  $2.90              $293.00   \n",
       "30-34              73                  $2.93              $214.00   \n",
       "35-39              41                  $3.60              $147.67   \n",
       "40+                13                  $2.94               $38.24   \n",
       "<10                23                  $3.35               $77.13   \n",
       "\n",
       "      Normalized Totals  \n",
       "10-14             $2.96  \n",
       "15-19             $3.04  \n",
       "20-24             $3.05  \n",
       "25-29             $2.90  \n",
       "30-34             $2.93  \n",
       "35-39             $3.60  \n",
       "40+               $2.94  \n",
       "<10               $3.35  "
      ]
     },
     "execution_count": 7,
     "metadata": {},
     "output_type": "execute_result"
    }
   ],
   "source": [
    "Avg_price_age = (df_agegroup[\"Price\"].mean()).map(\"${:.2f}\".format)\n",
    "Total_value_age = (df_agegroup[\"Price\"].sum()).map(\"${:.2f}\".format)\n",
    "Nor_total_age = (df_agegroup[\"Price\"].sum()/df[\"Age Group\"].value_counts()).map(\"${:.2f}\".format)\n",
    "age_purchase_summary = pd.DataFrame({\"Pruchase Count\":pur_count_age,\"Average Purchase Price\":Avg_price_age,\n",
    "                                     \"Total Pruchase Value\":Total_value_age, \"Normalized Totals\":Nor_total_age})\n",
    "age_purchase_summary"
   ]
  },
  {
   "cell_type": "markdown",
   "metadata": {},
   "source": [
    "## Top Spenders"
   ]
  },
  {
   "cell_type": "markdown",
   "metadata": {},
   "source": [
    "* Run basic calculations to obtain the results in the table below\n",
    "\n",
    "\n",
    "* Create a summary data frame to hold the results\n",
    "\n",
    "\n",
    "* Sort the total purchase value column in descending order\n",
    "\n",
    "\n",
    "* Optional: give the displayed data cleaner formatting\n",
    "\n",
    "\n",
    "* Display a preview of the summary data frame\n",
    "\n"
   ]
  },
  {
   "cell_type": "code",
   "execution_count": 8,
   "metadata": {},
   "outputs": [
    {
     "data": {
      "text/html": [
       "<div>\n",
       "<table border=\"1\" class=\"dataframe\">\n",
       "  <thead>\n",
       "    <tr style=\"text-align: right;\">\n",
       "      <th></th>\n",
       "      <th>Purchase Count</th>\n",
       "      <th>Average Purchase Price</th>\n",
       "      <th>Total Purchase Value</th>\n",
       "    </tr>\n",
       "    <tr>\n",
       "      <th>SN</th>\n",
       "      <th></th>\n",
       "      <th></th>\n",
       "      <th></th>\n",
       "    </tr>\n",
       "  </thead>\n",
       "  <tbody>\n",
       "    <tr>\n",
       "      <th>Lisosia93</th>\n",
       "      <td>5</td>\n",
       "      <td>$3.79</td>\n",
       "      <td>$18.96</td>\n",
       "    </tr>\n",
       "    <tr>\n",
       "      <th>Idastidru52</th>\n",
       "      <td>4</td>\n",
       "      <td>$3.86</td>\n",
       "      <td>$15.45</td>\n",
       "    </tr>\n",
       "    <tr>\n",
       "      <th>Chamjask73</th>\n",
       "      <td>3</td>\n",
       "      <td>$4.61</td>\n",
       "      <td>$13.83</td>\n",
       "    </tr>\n",
       "    <tr>\n",
       "      <th>Iral74</th>\n",
       "      <td>4</td>\n",
       "      <td>$3.40</td>\n",
       "      <td>$13.62</td>\n",
       "    </tr>\n",
       "    <tr>\n",
       "      <th>Iskadarya95</th>\n",
       "      <td>3</td>\n",
       "      <td>$4.37</td>\n",
       "      <td>$13.10</td>\n",
       "    </tr>\n",
       "  </tbody>\n",
       "</table>\n",
       "</div>"
      ],
      "text/plain": [
       "             Purchase Count Average Purchase Price Total Purchase Value\n",
       "SN                                                                     \n",
       "Lisosia93                 5                  $3.79               $18.96\n",
       "Idastidru52               4                  $3.86               $15.45\n",
       "Chamjask73                3                  $4.61               $13.83\n",
       "Iral74                    4                  $3.40               $13.62\n",
       "Iskadarya95               3                  $4.37               $13.10"
      ]
     },
     "execution_count": 8,
     "metadata": {},
     "output_type": "execute_result"
    }
   ],
   "source": [
    "pur_count_sn = df[\"SN\"].value_counts()\n",
    "df_sn =df.groupby([\"SN\"])\n",
    "avg_price_sn=(df_sn[\"Price\"].mean()).map(\"${0:.2f}\".format)\n",
    "total_value_sn =(df_sn[\"Price\"].sum())\n",
    "sn_summary = pd.DataFrame({\"Purchase Count\":pur_count_sn,\"Average Purchase Price\":avg_price_sn,\n",
    "                           \"Total Purchase Value\":(total_value_sn)})\n",
    "sn_summary_TopPurchase = sn_summary.sort_values([\"Total Purchase Value\"], ascending = False)\n",
    "sn_summary_TopPurchase[\"Total Purchase Value\"] = sn_summary_TopPurchase[\"Total Purchase Value\"].map(\"${0:.2f}\".format)\n",
    "sn_summary_TopPurchase.head(5)"
   ]
  },
  {
   "cell_type": "markdown",
   "metadata": {},
   "source": [
    "## Most Popular Items"
   ]
  },
  {
   "cell_type": "markdown",
   "metadata": {},
   "source": [
    "* Retrieve the Item ID, Item Name, and Item Price columns\n",
    "\n",
    "\n",
    "* Group by Item ID and Item Name. Perform calculations to obtain purchase count, item price, and total purchase value\n",
    "\n",
    "\n",
    "* Create a summary data frame to hold the results\n",
    "\n",
    "\n",
    "* Sort the purchase count column in descending order\n",
    "\n",
    "\n",
    "* Optional: give the displayed data cleaner formatting\n",
    "\n",
    "\n",
    "* Display a preview of the summary data frame\n",
    "\n"
   ]
  },
  {
   "cell_type": "code",
   "execution_count": 9,
   "metadata": {},
   "outputs": [
    {
     "data": {
      "text/html": [
       "<div>\n",
       "<table border=\"1\" class=\"dataframe\">\n",
       "  <thead>\n",
       "    <tr style=\"text-align: right;\">\n",
       "      <th></th>\n",
       "      <th></th>\n",
       "      <th>Purchase Count</th>\n",
       "      <th>Item Price</th>\n",
       "      <th>Total Purchase Value</th>\n",
       "    </tr>\n",
       "    <tr>\n",
       "      <th>Item ID</th>\n",
       "      <th>Item Name</th>\n",
       "      <th></th>\n",
       "      <th></th>\n",
       "      <th></th>\n",
       "    </tr>\n",
       "  </thead>\n",
       "  <tbody>\n",
       "    <tr>\n",
       "      <th>178</th>\n",
       "      <th>Oathbreaker, Last Hope of the Breaking Storm</th>\n",
       "      <td>12</td>\n",
       "      <td>$4.23</td>\n",
       "      <td>$50.76</td>\n",
       "    </tr>\n",
       "    <tr>\n",
       "      <th>145</th>\n",
       "      <th>Fiery Glass Crusader</th>\n",
       "      <td>9</td>\n",
       "      <td>$4.58</td>\n",
       "      <td>$41.22</td>\n",
       "    </tr>\n",
       "    <tr>\n",
       "      <th>108</th>\n",
       "      <th>Extraction, Quickblade Of Trembling Hands</th>\n",
       "      <td>9</td>\n",
       "      <td>$3.53</td>\n",
       "      <td>$31.77</td>\n",
       "    </tr>\n",
       "    <tr>\n",
       "      <th>82</th>\n",
       "      <th>Nirvana</th>\n",
       "      <td>9</td>\n",
       "      <td>$4.90</td>\n",
       "      <td>$44.10</td>\n",
       "    </tr>\n",
       "    <tr>\n",
       "      <th>19</th>\n",
       "      <th>Pursuit, Cudgel of Necromancy</th>\n",
       "      <td>8</td>\n",
       "      <td>$1.02</td>\n",
       "      <td>$8.16</td>\n",
       "    </tr>\n",
       "  </tbody>\n",
       "</table>\n",
       "</div>"
      ],
      "text/plain": [
       "                                                     Purchase Count  \\\n",
       "Item ID Item Name                                                     \n",
       "178     Oathbreaker, Last Hope of the Breaking Storm             12   \n",
       "145     Fiery Glass Crusader                                      9   \n",
       "108     Extraction, Quickblade Of Trembling Hands                 9   \n",
       "82      Nirvana                                                   9   \n",
       "19      Pursuit, Cudgel of Necromancy                             8   \n",
       "\n",
       "                                                     Item Price  \\\n",
       "Item ID Item Name                                                 \n",
       "178     Oathbreaker, Last Hope of the Breaking Storm      $4.23   \n",
       "145     Fiery Glass Crusader                              $4.58   \n",
       "108     Extraction, Quickblade Of Trembling Hands         $3.53   \n",
       "82      Nirvana                                           $4.90   \n",
       "19      Pursuit, Cudgel of Necromancy                     $1.02   \n",
       "\n",
       "                                                     Total Purchase Value  \n",
       "Item ID Item Name                                                          \n",
       "178     Oathbreaker, Last Hope of the Breaking Storm               $50.76  \n",
       "145     Fiery Glass Crusader                                       $41.22  \n",
       "108     Extraction, Quickblade Of Trembling Hands                  $31.77  \n",
       "82      Nirvana                                                    $44.10  \n",
       "19      Pursuit, Cudgel of Necromancy                               $8.16  "
      ]
     },
     "execution_count": 9,
     "metadata": {},
     "output_type": "execute_result"
    }
   ],
   "source": [
    "df_item =df.groupby([\"Item ID\",\"Item Name\"])\n",
    "pur_count_item =df_item[\"Item ID\"].count()\n",
    "avg_price_item=(df_item[\"Price\"].mean()).map(\"${0:.2f}\".format)\n",
    "total_value_item =(df_item[\"Price\"].sum())\n",
    "item_summary = pd.DataFrame({\"Purchase Count\":pur_count_item,\"Item Price\":avg_price_item,\"Total Purchase Value\":total_value_item})\n",
    "item_summary\n",
    "item_summary_mostpop = item_summary.sort_values([\"Purchase Count\"], ascending = False)\n",
    "item_summary_mostpop.head(5)"
   ]
  },
  {
   "cell_type": "markdown",
   "metadata": {},
   "source": [
    "## Most Profitable Items"
   ]
  },
  {
   "cell_type": "markdown",
   "metadata": {},
   "source": [
    "* Sort the above table by total purchase value in descending order\n",
    "\n",
    "\n",
    "* Optional: give the displayed data cleaner formatting\n",
    "\n",
    "\n",
    "* Display a preview of the data frame\n",
    "\n"
   ]
  },
  {
   "cell_type": "code",
   "execution_count": 10,
   "metadata": {
    "scrolled": true
   },
   "outputs": [
    {
     "data": {
      "text/html": [
       "<div>\n",
       "<table border=\"1\" class=\"dataframe\">\n",
       "  <thead>\n",
       "    <tr style=\"text-align: right;\">\n",
       "      <th></th>\n",
       "      <th></th>\n",
       "      <th>Purchase Count</th>\n",
       "      <th>Item Price</th>\n",
       "      <th>Total Purchase Value</th>\n",
       "    </tr>\n",
       "    <tr>\n",
       "      <th>Item ID</th>\n",
       "      <th>Item Name</th>\n",
       "      <th></th>\n",
       "      <th></th>\n",
       "      <th></th>\n",
       "    </tr>\n",
       "  </thead>\n",
       "  <tbody>\n",
       "    <tr>\n",
       "      <th>178</th>\n",
       "      <th>Oathbreaker, Last Hope of the Breaking Storm</th>\n",
       "      <td>12</td>\n",
       "      <td>$4.23</td>\n",
       "      <td>$50.76</td>\n",
       "    </tr>\n",
       "    <tr>\n",
       "      <th>82</th>\n",
       "      <th>Nirvana</th>\n",
       "      <td>9</td>\n",
       "      <td>$4.90</td>\n",
       "      <td>$44.10</td>\n",
       "    </tr>\n",
       "    <tr>\n",
       "      <th>145</th>\n",
       "      <th>Fiery Glass Crusader</th>\n",
       "      <td>9</td>\n",
       "      <td>$4.58</td>\n",
       "      <td>$41.22</td>\n",
       "    </tr>\n",
       "    <tr>\n",
       "      <th>92</th>\n",
       "      <th>Final Critic</th>\n",
       "      <td>8</td>\n",
       "      <td>$4.88</td>\n",
       "      <td>$39.04</td>\n",
       "    </tr>\n",
       "    <tr>\n",
       "      <th>103</th>\n",
       "      <th>Singed Scalpel</th>\n",
       "      <td>8</td>\n",
       "      <td>$4.35</td>\n",
       "      <td>$34.80</td>\n",
       "    </tr>\n",
       "  </tbody>\n",
       "</table>\n",
       "</div>"
      ],
      "text/plain": [
       "                                                     Purchase Count  \\\n",
       "Item ID Item Name                                                     \n",
       "178     Oathbreaker, Last Hope of the Breaking Storm             12   \n",
       "82      Nirvana                                                   9   \n",
       "145     Fiery Glass Crusader                                      9   \n",
       "92      Final Critic                                              8   \n",
       "103     Singed Scalpel                                            8   \n",
       "\n",
       "                                                     Item Price  \\\n",
       "Item ID Item Name                                                 \n",
       "178     Oathbreaker, Last Hope of the Breaking Storm      $4.23   \n",
       "82      Nirvana                                           $4.90   \n",
       "145     Fiery Glass Crusader                              $4.58   \n",
       "92      Final Critic                                      $4.88   \n",
       "103     Singed Scalpel                                    $4.35   \n",
       "\n",
       "                                                     Total Purchase Value  \n",
       "Item ID Item Name                                                          \n",
       "178     Oathbreaker, Last Hope of the Breaking Storm               $50.76  \n",
       "82      Nirvana                                                    $44.10  \n",
       "145     Fiery Glass Crusader                                       $41.22  \n",
       "92      Final Critic                                               $39.04  \n",
       "103     Singed Scalpel                                             $34.80  "
      ]
     },
     "execution_count": 10,
     "metadata": {},
     "output_type": "execute_result"
    }
   ],
   "source": [
    "item_summary_profit = item_summary.sort_values([\"Total Purchase Value\"], ascending = False)\n",
    "item_summary_profit[\"Total Purchase Value\"]=item_summary_profit[\"Total Purchase Value\"].map(\"${0:.2f}\".format)\n",
    "item_summary_profit.head(5)"
   ]
  },
  {
   "cell_type": "code",
   "execution_count": null,
   "metadata": {},
   "outputs": [],
   "source": []
  }
 ],
 "metadata": {
  "anaconda-cloud": {},
  "kernel_info": {
   "name": "python3"
  },
  "kernelspec": {
   "display_name": "Python 3",
   "language": "python",
   "name": "python3"
  },
  "language_info": {
   "codemirror_mode": {
    "name": "ipython",
    "version": 3
   },
   "file_extension": ".py",
   "mimetype": "text/x-python",
   "name": "python",
   "nbconvert_exporter": "python",
   "pygments_lexer": "ipython3",
   "version": "3.6.5"
  },
  "nteract": {
   "version": "0.8.4"
  }
 },
 "nbformat": 4,
 "nbformat_minor": 1
}
